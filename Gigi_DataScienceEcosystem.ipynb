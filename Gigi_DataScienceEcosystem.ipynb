{
  "metadata": {
    "kernelspec": {
      "name": "python",
      "display_name": "Pyolite",
      "language": "python"
    },
    "language_info": {
      "codemirror_mode": {
        "name": "python",
        "version": 3
      },
      "file_extension": ".py",
      "mimetype": "text/x-python",
      "name": "python",
      "nbconvert_exporter": "python",
      "pygments_lexer": "ipython3",
      "version": "3.8"
    }
  },
  "nbformat_minor": 4,
  "nbformat": 4,
  "cells": [
    {
      "cell_type": "markdown",
      "source": "<center>\n    <img src=\"https://cf-courses-data.s3.us.cloud-object-storage.appdomain.cloud/IBMDeveloperSkillsNetwork-DS0105EN-SkillsNetwork/labs/Module2/images/SN_web_lightmode.png\" width=\"300\" alt=\"cognitiveclass.ai logo\">\n</center>\n",
      "metadata": {}
    },
    {
      "cell_type": "markdown",
      "source": "#### Add your code below following the instructions given in the course\n",
      "metadata": {}
    },
    {
      "cell_type": "markdown",
      "source": "# Data Science Tools and Ecosystem",
      "metadata": {}
    },
    {
      "cell_type": "markdown",
      "source": "*In this notebook, Data Science Tools and Ecosystem are summarized.*\n",
      "metadata": {}
    },
    {
      "cell_type": "markdown",
      "source": "**Objectives**\n+ List popList popular languages for Data Science.\n+ Discuss key libraries used in Data Science.\n+ Explain the Data Science workflow.\n+ Demonstrate Data Cleaning techniques.\n+ Discuss and implement Data Visualization tools.",
      "metadata": {}
    },
    {
      "cell_type": "markdown",
      "source": "## Some of the popular languages that Data Scientists use are:\n1. Python: Python is one of the most popular programming languages used in data science due to its simplicity, readability, and versatility. It has a large community and an extensive library of data analysis tools such as pandas, NumPy, Matplotlib, and scikit-learn.\n\n2. R: R is a language specifically designed for statistical computing and graphics. It has a comprehensive suite of tools for data analysis, visualization, and machine learning. It's particularly popular in academia and research.\n\n3. SQL: Structured Query Language (SQL) is a database management language that allows data scientists to query, manipulate, and transform data stored in relational databases.\n\n4.  Java: Java is a general-purpose programming language that is often used in large-scale data analysis projects. It's particularly popular in the finance and banking sectors.\n\n5.  Scala: Scala is a general-purpose programming language that runs on the Java Virtual Machine (JVM). It's popular for building high-performance data processing applications and is often used in big data frameworks like Apache Spark.\n\n\n* There are also many other programming languages that can be used for data science, including MATLAB, Julia, and SAS. The choice of language often depends on the specific project requirements, personal preference, and the team's expertise",
      "metadata": {}
    },
    {
      "cell_type": "markdown",
      "source": "| Data Science Tools |\n| --- |\n| Jupyter Notebook |\n| RStudio |\n| Spyder |",
      "metadata": {}
    },
    {
      "cell_type": "markdown",
      "source": "### Below are a few examples of evaluating arithmetic expressions in Python:\n```>>> x = 10\n>>> y = 5\n>>> result = x + y\n>>> print(result)\n15\n```\n```>>> x = 10\n>>> y = 5\n>>> result = x * y\n>>> print(result)\n50\n```",
      "metadata": {}
    },
    {
      "cell_type": "code",
      "source": "# This is a simple arithmetic expression to multiply then add integers\n(3*4)+5\n\n",
      "metadata": {
        "trusted": true
      },
      "execution_count": 1,
      "outputs": [
        {
          "execution_count": 1,
          "output_type": "execute_result",
          "data": {
            "text/plain": "17"
          },
          "metadata": {}
        }
      ]
    },
    {
      "cell_type": "code",
      "source": "# This will convert 200 minutes to hours by dividing by 60\n200 / 60\n",
      "metadata": {
        "trusted": true
      },
      "execution_count": 2,
      "outputs": [
        {
          "execution_count": 2,
          "output_type": "execute_result",
          "data": {
            "text/plain": "3.3333333333333335"
          },
          "metadata": {}
        }
      ]
    },
    {
      "cell_type": "markdown",
      "source": "## Author\nGigi",
      "metadata": {}
    },
    {
      "cell_type": "code",
      "source": "",
      "metadata": {},
      "execution_count": null,
      "outputs": []
    }
  ]
}